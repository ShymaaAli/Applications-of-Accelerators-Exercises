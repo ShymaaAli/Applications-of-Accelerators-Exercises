{
  "metadata": {
    "language_info": {
      "codemirror_mode": {
        "name": "python",
        "version": 3
      },
      "file_extension": ".py",
      "mimetype": "text/x-python",
      "name": "python",
      "nbconvert_exporter": "python",
      "pygments_lexer": "ipython3",
      "version": "3.8"
    },
    "kernelspec": {
      "name": "python",
      "display_name": "Python (Pyodide)",
      "language": "python"
    }
  },
  "nbformat_minor": 4,
  "nbformat": 4,
  "cells": [
    {
      "cell_type": "code",
      "source": "#Shymaa Ali Fathi.\n#Applications of accelerators exercise solution.\n#EX3.\n#Write a python function with the name of \"get_rigidity\" to calculate the magnetic rigidity \n#and put your code as usual on your GitHUB and provide the link here. \n#Test your code with the results of the previous exercise!\n#Hint: Please write as less code lines as possible by using advanced language features\n#like the decorator \"np.vectorize\" and \"class",
      "metadata": {},
      "execution_count": null,
      "outputs": []
    },
    {
      "cell_type": "code",
      "source": "import math \ndef get_rigidity(m,E,ion_no):\n    c=299792458 #speed of light\n    q=ion_no*1.602e-19\n    p=math.sqrt(((E /c)**2)+2*E*m)\n    B=p/q\n    print(' The magnetic rigidity = {} Tm'.format(B))\n",
      "metadata": {
        "trusted": true
      },
      "execution_count": 4,
      "outputs": []
    },
    {
      "cell_type": "code",
      "source": "get_rigidity(3.953e-25, 3.0441e-11,28) # For 238U28+",
      "metadata": {
        "trusted": true
      },
      "execution_count": 6,
      "outputs": [
        {
          "name": "stdout",
          "text": " The magnetic rigidity = 1.0939068146061037 Tm\n",
          "output_type": "stream"
        }
      ]
    },
    {
      "cell_type": "code",
      "source": "",
      "metadata": {},
      "execution_count": null,
      "outputs": []
    }
  ]
}