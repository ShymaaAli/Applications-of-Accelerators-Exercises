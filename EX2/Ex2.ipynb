{
  "metadata": {
    "language_info": {
      "name": ""
    },
    "kernelspec": {
      "name": "",
      "display_name": ""
    }
  },
  "nbformat_minor": 4,
  "nbformat": 4,
  "cells": [
    {
      "cell_type": "code",
      "source": "#Shymaa Ali Fathi.\n#Applications of accelerators exercise solution.\n#EX2.\n#write a python class for a particle,by giving Z and A. \n#this class should have a method which gives the number of neutron back.\n#Instantiate this class with an example.\n#Class means a box of functions, variables.",
      "metadata": {},
      "execution_count": null,
      "outputs": []
    },
    {
      "cell_type": "code",
      "source": "class neutron_back:\n    def __init__(self): #the instantiation of the class (calling the class)\n        print(\"==============================\\n this class contains a function that calculates the neutron back given the Z and A numbers\\n==============================\")\n        print (\"for U-238, the A=235,Z=92. Therfore, to calculate the neutron back, one should use, neutron_back.calculate(Z number, Anumber) the N=143\")\n    def calculate(Z, A):\n        print(\"There are \", A-Z, \"neutrons in the neucleus!\")",
      "metadata": {
        "trusted": true
      },
      "execution_count": 17,
      "outputs": []
    },
    {
      "cell_type": "code",
      "source": "# An example of instantiating the class, showing a given example:\nneutron_back()",
      "metadata": {
        "trusted": true
      },
      "execution_count": 18,
      "outputs": [
        {
          "name": "stdout",
          "text": "==============================\n this class contains a function that calculates the neutron back given the Z and A numbers\n==============================\nfor U-238, the A=235,Z=92. Therfore, to calculate the neutron back, one should use, neutron_back.calculate(Z number, Anumber) the N=143\n",
          "output_type": "stream"
        },
        {
          "execution_count": 18,
          "output_type": "execute_result",
          "data": {
            "text/plain": "<__main__.neutron_back at 0x31e24b0>"
          },
          "metadata": {}
        }
      ]
    },
    {
      "cell_type": "code",
      "source": "# An example of calculating the netron back for Uranium 235:\nneutron_back.calculate(92,235)\nneutron_back.calculate(84,209)",
      "metadata": {
        "trusted": true
      },
      "execution_count": 20,
      "outputs": [
        {
          "name": "stdout",
          "text": "There are  143 neutrons in the neucleus!\nThere are  125 neutrons in the neucleus!\n",
          "output_type": "stream"
        }
      ]
    },
    {
      "cell_type": "code",
      "source": "",
      "metadata": {},
      "execution_count": null,
      "outputs": []
    },
    {
      "cell_type": "code",
      "source": "",
      "metadata": {},
      "execution_count": null,
      "outputs": []
    }
  ]
}